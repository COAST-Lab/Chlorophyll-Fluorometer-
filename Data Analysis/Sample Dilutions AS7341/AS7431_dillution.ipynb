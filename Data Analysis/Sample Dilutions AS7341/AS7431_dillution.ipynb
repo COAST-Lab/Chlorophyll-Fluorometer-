{
 "cells": [
  {
   "cell_type": "markdown",
   "id": "7037cdf6",
   "metadata": {},
   "source": [
    "# Description\n",
    "This is the analysis of the chlorophyll fluorometer by taking measurements of chlorophyll standards via rhodamine dye. These tests serve as an analysis of the fluorometer's functionality for future testing.\n",
    "\n",
    "# Fluormeter Testing\n",
    "## Fluormeter Design\n",
    "This fluorometer is a benchtop model with housing which positions the LED and the AS7341 at a 90-degree angle as well as will be an opaque design as to eliminate any ambient light from impacting the measurements. The AS7341 is fitted with a red filter Rocsculux filter #19. This filter had a 20% transmission. The top of the benchtop design contains a hole that fits a cuvette. A cuvette is placed into the fluorometer with the water sample to begin testing. Design materials can be found at: https://github.com/COAST-Lab/Chlorophyll-Fluorometer-/tree/main/Firmware.\n",
    "\n",
    "\n",
    "# Testing Procedure\n",
    "## Step 1\n",
    "A YSI instrument was calibrated to be used to verify the chlorophyll water sample which would be prepared. Calibration information: https://www.ysi.com/file%20library/documents/manuals/exo-user-manual-web.pdf\n",
    "\n",
    "## Step 2\n",
    "A water sample was prepared with a chlorophyll concentration of 6.5mg/L and an RFU of 15.8 RFU. This water sample was prepared with rhodamine dye and DI water\n",
    "\n",
    "## Chlorophyll Sample Preparation\n",
    "### Step 1\n",
    "5mL of Rhodamine dye was pipetted into a 1000mL volumetric flask or beaker. Fill the flask or beaker up to 1000mL mark with DI water\n",
    "\n",
    "### Step 2\n",
    "Pipette 5mL of the prepared solution in step 1 into a separate 1000mL volumetric flask or beaker. Fill this flask or beaker up to 1000mL mark with DI water. This will be your chlorophyll water sample\n",
    "\n",
    "### Step 3\n",
    "Verify the concentration of the prepared chlorophyll water sample with the YSI\n",
    "\n",
    "## Step 4\n",
    "## Dillution Preparation\n",
    "Preapre an 80% (5.2mg/L), 60% (3.9mg/L), 40% (2.6mg/L), adn 20% (1.3mg/L) dillutuion solutions of the chlorphyll water sample. \n",
    "\n",
    "## Step 5\n",
    "Insert fill an empty cuvette with the 6.5 mg/L solutuion. Insert the curvette into the sensor. Cover the sensor with the carboard box and run the code with the LED light on for one minute. \n",
    "\n",
    "## Step 6 \n",
    "Stop the reading and take out the curvette. Repeat this process with the 80%, 60%, 40% and 20% dillution solutions. \n",
    "\n",
    "## Step 7\n",
    "After all of the dillutuion solutions have been tested, stop testing and take the SD card out of the fluorometer and plug it into the computer to begin analysis of the data collected.\n",
    "\n",
    "## Step 8\n",
    "This test will be performed first with an LED intensity of 255 and a AS73411 gain of 512x and an ATIME of 59 and ASTEP of 599 and then repeated with a gain of 64x. The data is recorded onto the SD card in the microcontroller. \n",
    "\n",
    "# Data Analysis\n",
    "\n",
    "## Graphing\n",
    "When taking measurements the AS7341 light sensor collects light measurements of multiple wavelengths. The wavelength of 680nm (denoted as F8) will be analyzed.\n",
    "\n",
    "## Graph characteristics\n",
    "Each graph shows the catagories of '6.5 mg/L', '5.2 mg/L', '3.9 mg/L', '2.6 mg/L' and '1.3 mg/L' on the x-axis to denote each test. And the numerical value of the F8 light measurement on the y-axis. The mean of each category will be plotted with an error bar with extends from the lowest value of the data set to the largest.\n",
    "\n",
    "## 512x Gain Graph\n",
    "\n",
    "## 64x Gain Graph"
   ]
  },
  {
   "cell_type": "code",
   "execution_count": null,
   "id": "384aa864",
   "metadata": {},
   "outputs": [],
   "source": []
  }
 ],
 "metadata": {
  "kernelspec": {
   "display_name": "Python 3 (ipykernel)",
   "language": "python",
   "name": "python3"
  },
  "language_info": {
   "codemirror_mode": {
    "name": "ipython",
    "version": 3
   },
   "file_extension": ".py",
   "mimetype": "text/x-python",
   "name": "python",
   "nbconvert_exporter": "python",
   "pygments_lexer": "ipython3",
   "version": "3.10.11"
  }
 },
 "nbformat": 4,
 "nbformat_minor": 5
}
