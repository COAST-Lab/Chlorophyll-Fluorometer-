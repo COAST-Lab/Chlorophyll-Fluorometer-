{
 "cells": [
  {
   "cell_type": "markdown",
   "id": "09442847",
   "metadata": {},
   "source": [
    "# Description\n",
    "This is the analysis of the chlorophyll fluorometer by taking measurements \n",
    "of chlorophyll standards via rhodamine dye. This analysis is to test the fluorometer's measurement sensitivity using serial dilutions of rhodamine dye.\n",
    "\n",
    "# Fluorometer Testing\n",
    "\n",
    "## Fluorometer Design    \n",
    "This fluorometer is a benchtop model with housing which positions the LED and \n",
    "the AS7341 at a 90 degree angle as well as will be an opaque design as to \n",
    "eliminate any ambient light from impacting the measurements. The top of the benchtop design contains a hole \n",
    "which fits a cuvette. A cuvette is placed into the fluorometer with the water\n",
    "sample to begin testing. Design materials an be found at:\n",
    "https://github.com/COAST-Lab/Chlorophyll-Fluorometer-/tree/main/Firmware. "
   ]
  },
  {
   "cell_type": "markdown",
   "id": "def64171",
   "metadata": {},
   "source": [
    "# Testing Procedure\n",
    "\n",
    "## Step 1\n",
    "A YSI instrument was calibrated to be used to verify the chlorophyll water sample which would be prepared. Calibration information: https://www.ysi.com/file%20library/documents/manuals/exo-user-manual-web.pdf\n",
    "\n",
    "## Step 2\n",
    "A water sample was prepared with a chlorophyll concentration of 63.5 ug/L and an RFU of 15.8 RFU. This water sample was prepared with rhodamine dye and DI water\n",
    "\n",
    "## Chlorophyll Sample Preparation\n",
    "### Step 1\n",
    "5mL of Rhodamine dye was pipetted into a 1000mL volumetric flask or beaker. Fill the flask or beaker up to 1000mL mark with DI water\n",
    "\n",
    "### Step 2\n",
    "Pipette 5mL of the prepared solution in step 1 into a separate 1000mL volumetric flask or beaker. Fill this flask or beaker up to 1000mL mark with DI water. This will be your chlorophyll water sample\n",
    "\n",
    "### Step 3\n",
    "Verify the concentration of the prepared chlorophyll water sample with the YSI\n",
    "\n",
    "## Water Dilutions  \n",
    "Create diluted water samples. From the 1000mL stock of 63.5 ug/L chlorophyll water sample prepare water samples diluted to: 50 ug/L, 40 ug/L, 30 ug/L, 20 ug/L, 10ug/L, 8 ug/L, 6 ug/L, 4 ug/L, 2 ug/L, 0.75 ug/L, 0.5 ug/L and 0.25ug/L. \n",
    "\n",
    "## Step 3\n",
    "Once the diluted water samples are prepared begin testing procedure.\n",
    "\n",
    "## Step 4\n",
    "To begin tests, insert a cuvette filled with DI water into the fluorometer, this will act as your \"blank\". Cover the fluorometer with the box and run for 1 minute. \n",
    "\n",
    "## Step 5 \n",
    "Stop readings and take the cuvette filled with DI water out of the fluorometer. Insert a cuvette filled with the 0.25 ug/L solution. Cover the fluorometer with the box and run for 1 minute.\n",
    "\n",
    "## Step 6\n",
    "Repeat the 1 minute tests for each diluted water sample. \n",
    "\n",
    "## Step 7\n",
    "Stop testing and take the SD card out of the fluorometer and plug it into the computer to begin analysis of the data collected.\n",
    "\n",
    "## Step 8\n",
    "This test will be performed first with an LED intensity of 255 and a AS73411 gain of 512x and an ATIME of 59 and ASTEP of 599 and then repeated with a gain of 256x and then 128x. The data is recorded onto the SD card in the microcontroller. \n",
    "\n",
    "# Data Analysis\n",
    "\n",
    "## Graphing\n",
    "When taking measurements the AS7341 light sensor collects light measurements of multiple wavelengths. The wavelength of 680nm (denoted as F8) will be analyzed.\n",
    "\n",
    "## Graph characteristics\n",
    "Each graph shows the catagories of the water sample dilution concentrations on the x-axis to denote each test. And the numerical value of the F8 light measurement on the y-axis. The mean of each category will be plotted with an error bar with extends from the lowest value of the data set to the largest.\n",
    "\n",
    "### Step 1 \n",
    "import necessary modules"
   ]
  },
  {
   "cell_type": "code",
   "execution_count": 39,
   "id": "b90af01e",
   "metadata": {},
   "outputs": [],
   "source": [
    "import pandas as pd\n",
    "import matplotlib.pyplot as plt\n",
    "import numpy as np\n",
    "from scipy.stats import linregress, t\n",
    "from sklearn.metrics import r2_score, mean_squared_error"
   ]
  },
  {
   "cell_type": "markdown",
   "id": "871db38a",
   "metadata": {},
   "source": [
    "### Step 2 \n",
    "import file type (.csv file), convert F8 values to numeric, and specify the test values as the dilution values"
   ]
  },
  {
   "cell_type": "code",
   "execution_count": 40,
   "id": "4857ee5b",
   "metadata": {},
   "outputs": [],
   "source": [
    "# Replace with the actual file path\n",
    "file_path = \"/Users/jessiewynne/chla_fluorometer/AS7341 Dillutions 8.22/AS7341_128gain_8_22.csv\"\n",
    "# Read the CSV file without skipping any rows\n",
    "\n",
    "df = pd.read_csv(file_path, encoding='utf-8')\n",
    "\n",
    "# Filter out rows where the 'Test' column is 'test'\n",
    "df = df[df['Test'].str.lower() != 'test']\n",
    "\n",
    "# Convert 'F8 (Raw)' column to numeric values\n",
    "df['F8 (Raw)'] = pd.to_numeric(df['F8 (Raw)'], errors='coerce')\n",
    "\n",
    "# Get unique test categories (dilution values) in the order of appearance\n",
    "categories = df['Test'].unique()"
   ]
  },
  {
   "cell_type": "code",
   "execution_count": null,
   "id": "3bf5e13f",
   "metadata": {},
   "outputs": [],
   "source": []
  },
  {
   "cell_type": "markdown",
   "id": "94f0e8dc",
   "metadata": {},
   "source": [
    "### Step 3 \n",
    "Create dictionaries for the F8 values and confidence intervals. \n",
    "For each category calculate: mean and standard deviations, standard error, confidence level, uncertainty values and margin of error. "
   ]
  },
  {
   "cell_type": "code",
   "execution_count": 41,
   "id": "cbb9f17c",
   "metadata": {},
   "outputs": [
    {
     "name": "stdout",
     "output_type": "stream",
     "text": [
      "0 - 95% Confidence Interval for F8 (Raw): 1.0000 to 1.0000\n",
      "0 - Range of Uncertainty (95% CI Width): 0.0000\n",
      "\n",
      "0.25  - 95% Confidence Interval for F8 (Raw): 1.0000 to 1.0000\n",
      "0.25  - Range of Uncertainty (95% CI Width): 0.0000\n",
      "\n",
      "0.50  - 95% Confidence Interval for F8 (Raw): 1.0000 to 1.0000\n",
      "0.50  - Range of Uncertainty (95% CI Width): 0.0000\n",
      "\n",
      "0.75  - 95% Confidence Interval for F8 (Raw): 1.0000 to 1.0000\n",
      "0.75  - Range of Uncertainty (95% CI Width): 0.0000\n",
      "\n",
      "2.0  - 95% Confidence Interval for F8 (Raw): 2.2539 to 2.4472\n",
      "2.0  - Range of Uncertainty (95% CI Width): 0.1933\n",
      "\n",
      "4.0  - 95% Confidence Interval for F8 (Raw): 2.0000 to 2.0000\n",
      "4.0  - Range of Uncertainty (95% CI Width): 0.0000\n",
      "\n",
      "6.0  - 95% Confidence Interval for F8 (Raw): 2.3507 to 2.5604\n",
      "6.0  - Range of Uncertainty (95% CI Width): 0.2098\n",
      "\n",
      "8.0  - 95% Confidence Interval for F8 (Raw): 3.0000 to 3.0000\n",
      "8.0  - Range of Uncertainty (95% CI Width): 0.0000\n",
      "\n",
      "10.0  - 95% Confidence Interval for F8 (Raw): 4.0000 to 4.0000\n",
      "10.0  - Range of Uncertainty (95% CI Width): 0.0000\n",
      "\n",
      "20.0  - 95% Confidence Interval for F8 (Raw): 6.9122 to 6.9990\n",
      "20.0  - Range of Uncertainty (95% CI Width): 0.0868\n",
      "\n",
      "30.0  - 95% Confidence Interval for F8 (Raw): 9.9672 to 10.0108\n",
      "30.0  - Range of Uncertainty (95% CI Width): 0.0437\n",
      "\n",
      "40.0  - 95% Confidence Interval for F8 (Raw): 14.0000 to 14.0000\n",
      "40.0  - Range of Uncertainty (95% CI Width): 0.0000\n",
      "\n",
      "50.0  - 95% Confidence Interval for F8 (Raw): 16.4398 to 16.6472\n",
      "50.0  - Range of Uncertainty (95% CI Width): 0.2074\n",
      "\n"
     ]
    }
   ],
   "source": [
    "# Create a dictionary to store the 'F8 (Raw)' values for each category (dilution)\n",
    "category_f8_raw_dict = {}\n",
    "\n",
    "# Create dictionaries to store confidence intervals and ranges of uncertainty\n",
    "confidence_intervals = {}\n",
    "uncertainty_ranges = {}\n",
    "\n",
    "# Store unique x-values and their corresponding data points\n",
    "x_values = []\n",
    "y_values = []\n",
    "std_devs = []\n",
    "\n",
    "for category in categories:\n",
    "    # Exclude the first data point from each category\n",
    "    category_df = df[df['Test'] == category][1:]\n",
    "    category_f8_raw_dict[category] = category_df['F8 (Raw)']\n",
    "\n",
    "    # Calculate the mean and standard deviation for 'F8 (Raw)' data in each category\n",
    "    category_f8_raw_mean = category_df['F8 (Raw)'].mean()\n",
    "    category_f8_raw_std = category_df['F8 (Raw)'].std()\n",
    "        # Calculate the sample size for each category\n",
    "    category_sample_size = len(category_df['F8 (Raw)'])\n",
    "\n",
    "    # Calculate the standard error for each category's mean\n",
    "    category_standard_error = category_f8_raw_std / np.sqrt(category_sample_size)\n",
    "\n",
    "    # Define the confidence level (e.g., 95%)\n",
    "    confidence_level = 0.95\n",
    "\n",
    "    # Calculate the margin of error using the t-distribution\n",
    "    margin_of_error = t.ppf((1 + confidence_level) / 2, category_sample_size - 1) * category_standard_error\n",
    "\n",
    "    # Calculate the confidence interval for each category's mean\n",
    "    confidence_interval = (category_f8_raw_mean - margin_of_error, category_f8_raw_mean + margin_of_error)\n",
    "\n",
    "    # Calculate the range of uncertainty (95% CI width) for each category\n",
    "    uncertainty_range = confidence_interval[1] - confidence_interval[0]\n",
    "\n",
    "    # Store confidence intervals and uncertainty ranges in dictionaries\n",
    "    confidence_intervals[category] = confidence_interval\n",
    "    uncertainty_ranges[category] = uncertainty_range\n",
    "\n",
    "    # Print confidence intervals and ranges of uncertainty for each category\n",
    "    print(f\"{category} - 95% Confidence Interval for F8 (Raw): {confidence_interval[0]:.4f} to {confidence_interval[1]:.4f}\")\n",
    "    print(f\"{category} - Range of Uncertainty (95% CI Width): {uncertainty_range:.4f}\")\n",
    "    print()\n",
    "        # Check if the 'Test' value can be converted to a float, otherwise, skip it\n",
    "    try:\n",
    "        x_value = float(category)\n",
    "        x_values.append(x_value)\n",
    "        y_values.append(category_f8_raw_mean)\n",
    "        std_devs.append(category_f8_raw_std)\n",
    "    except ValueError:\n",
    "        pass"
   ]
  },
  {
   "cell_type": "markdown",
   "id": "5f35866d",
   "metadata": {},
   "source": [
    "### Step 4\n",
    "For the entire dataset calculate the: standard deviation, mean, standard error, confidence interval and rang of uncertainty. Print these values"
   ]
  },
  {
   "cell_type": "code",
   "execution_count": 42,
   "id": "fdb5005e",
   "metadata": {},
   "outputs": [
    {
     "name": "stdout",
     "output_type": "stream",
     "text": [
      "\n",
      "Entire Dataset:\n",
      "95% Confidence Interval for F8 (Raw): 4.6782 to 5.2549\n",
      "Range of Uncertainty (95% CI Width) for Entire Dataset: 0.5768\n",
      "\n"
     ]
    }
   ],
   "source": [
    "# Calculate the mean and standard deviation for the entire dataset for 'F8 (Raw)' data\n",
    "dataset_f8_raw_mean = df['F8 (Raw)'].mean()\n",
    "dataset_f8_raw_std = df['F8 (Raw)'].std()\n",
    "\n",
    "# Calculate the sample size for the entire dataset\n",
    "dataset_sample_size = len(df['F8 (Raw)'])\n",
    "\n",
    "# Calculate the standard error for the entire dataset's mean\n",
    "dataset_standard_error = dataset_f8_raw_std / np.sqrt(dataset_sample_size)\n",
    "\n",
    "# Calculate the margin of error using the t-distribution\n",
    "confidence_level = 0.95\n",
    "margin_of_error = t.ppf((1 + confidence_level) / 2, dataset_sample_size - 1) * dataset_standard_error\n",
    "\n",
    "# Calculate the confidence interval for the entire dataset's mean\n",
    "confidence_interval = (dataset_f8_raw_mean - margin_of_error, dataset_f8_raw_mean + margin_of_error)\n",
    "\n",
    "# Calculate the range of uncertainty (95% CI width) for the entire dataset\n",
    "uncertainty_range = confidence_interval[1] - confidence_interval[0]\n",
    "# Print the confidence interval and range of uncertainty for the entire dataset\n",
    "print(\"\\nEntire Dataset:\")\n",
    "print(f\"95% Confidence Interval for F8 (Raw): {confidence_interval[0]:.4f} to {confidence_interval[1]:.4f}\")\n",
    "print(f\"Range of Uncertainty (95% CI Width) for Entire Dataset: {uncertainty_range:.4f}\")\n",
    "print()"
   ]
  },
  {
   "cell_type": "markdown",
   "id": "e838b20d",
   "metadata": {},
   "source": [
    "### Step 5\n",
    "Find the lowest and highest uncertainty range within the categories, calculate the percentage for the lowest and highest uncertainty ranges within the categories. Print these values. "
   ]
  },
  {
   "cell_type": "code",
   "execution_count": 43,
   "id": "3d0743e2",
   "metadata": {},
   "outputs": [
    {
     "name": "stdout",
     "output_type": "stream",
     "text": [
      "Lowest Uncertainty Range in Categories (as Percentage): 0.00%\n",
      "Highest Uncertainty Range in Categories (as Percentage): 4.22%\n"
     ]
    }
   ],
   "source": [
    "# Find the lowest and highest uncertainty range within the categories\n",
    "min_uncertainty_range = min(uncertainty_ranges.values())\n",
    "max_uncertainty_range = max(uncertainty_ranges.values())\n",
    "\n",
    "# Calculate the percentage for the lowest and highest uncertainty ranges within the categories\n",
    "min_uncertainty_percentage = (min_uncertainty_range / dataset_f8_raw_mean) * 100\n",
    "max_uncertainty_percentage = (max_uncertainty_range / dataset_f8_raw_mean) * 100\n",
    "\n",
    "# Print the lowest and highest uncertainty ranges as percentages for the entire dataset\n",
    "print(f\"Lowest Uncertainty Range in Categories (as Percentage): {min_uncertainty_percentage:.2f}%\")\n",
    "print(f\"Highest Uncertainty Range in Categories (as Percentage): {max_uncertainty_percentage:.2f}%\")"
   ]
  },
  {
   "cell_type": "markdown",
   "id": "18b51c47",
   "metadata": {},
   "source": [
    "### Step 6\n",
    "Create a scatter plot for the F8 values. Calculate the line of best it parameters, and a function to calculate the predicted values from the line of best fit. Plot the line of best fit. Calculate  the RSME and R-sqaured and print these on the graph. Set the x-axis to intervals of 5 and create titles for the graph.  "
   ]
  },
  {
   "cell_type": "code",
   "execution_count": 44,
   "id": "164ae754",
   "metadata": {},
   "outputs": [
    {
     "data": {
      "image/png": "[encoded data removed]",
      "text/plain": [
       "<Figure size 640x480 with 1 Axes>"
      ]
     },
     "metadata": {},
     "output_type": "display_data"
    }
   ],
   "source": [
    "# Scatter plot for mean F8 values with error bars and legend\n",
    "plt.errorbar(x_values, y_values, yerr=std_devs, fmt='o', capsize=3, ecolor='black', label='Mean F8 (Raw) Values ± Std Dev')\n",
    "\n",
    "# Calculate the line of best fit parameters (slope and intercept)\n",
    "slope, intercept, r_value, p_value, std_err = linregress(x_values, y_values)\n",
    "\n",
    "# Create a function to calculate predicted values using the line of best fit equation\n",
    "def predict_values(x, slope, intercept):\n",
    "    return slope * x + intercept\n",
    "\n",
    "# Plot the line of best fit\n",
    "plt.plot(x_values, predict_values(np.array(x_values), slope, intercept), label='Line of Best Fit')\n",
    "# Calculate R-squared and RMSE\n",
    "y_predicted = predict_values(np.array(x_values), slope, intercept)\n",
    "r_squared = r2_score(y_values, y_predicted)\n",
    "rmse = np.sqrt(mean_squared_error(y_values, y_predicted))\n",
    "\n",
    "# Set x-axis tick positions at intervals of 5\n",
    "plt.xticks(np.arange(min(x_values), max(x_values)+1, 5))\n",
    "\n",
    "plt.xlabel('Test Values')\n",
    "plt.ylabel('F8 (Raw) Measurement Values')\n",
    "plt.legend(loc='upper center', bbox_to_anchor=(0.5, -0.2), ncol=2)  # Move legend down and adjust layout\n",
    "plt.title(\"AS7341 Dilutions 128x Gain\")\n",
    "\n",
    "\n",
    "# Display R-squared and RMSE on the plot\n",
    "plt.annotate(f'R-squared: {r_squared:.4f}\\nRMSE: {rmse:.4f}', xy=(0.05, 0.85), xycoords='axes fraction')\n",
    "\n",
    "\n",
    "plt.tight_layout()\n",
    "plt.show()\n"
   ]
  }
 ],
 "metadata": {
  "kernelspec": {
   "display_name": "Python 3 (ipykernel)",
   "language": "python",
   "name": "python3"
  },
  "language_info": {
   "codemirror_mode": {
    "name": "ipython",
    "version": 3
   },
   "file_extension": ".py",
   "mimetype": "text/x-python",
   "name": "python",
   "nbconvert_exporter": "python",
   "pygments_lexer": "ipython3",
   "version": "3.10.6"
  }
 },
 "nbformat": 4,
 "nbformat_minor": 5
}
