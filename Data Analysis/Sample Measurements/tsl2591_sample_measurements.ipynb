{
 "cells": [
  {
   "cell_type": "markdown",
   "id": "3437bf0b",
   "metadata": {},
   "source": [
    "This is the analysis of the chlorophyll flurometer by taking measurements \n",
    "of chlorophyll standars via rhodamine dye. These tests serve as an analysis\n",
    "of the flurometers functionality for future testing. \n",
    "\n",
    "# Fluormeter Testing\n",
    "\n",
    "## Fluormeter Desgin \n",
    "This fluorometer is a benchtop model with housing which positions the LED and \n",
    "the TSL2592 at a 90 degree angle as well as will be an opage design as to \n",
    "eliminate any ambient light from impacting the measurements. The TSL 2591\n",
    "is fitted with a red filter. The top of the benchtop design contains a hole \n",
    "which fits a cuvette. A cuvette is placed into the flurometer with the water\n",
    "sample to begin testing. Design materials an be found at:\n",
    "https://github.com/COAST-Lab/Chlorophyll-Fluorometer-/tree/main/Firmware. \n",
    "\n",
    "## Testing Procedure \n",
    "\n",
    "### Step 1\n",
    "A YSI instrument was calibrated to be used to verify the chlorphyll water sample\n",
    "which would be prepared. Callibration information: \n",
    "https://www.ysi.com/file%20library/documents/manuals/exo-user-manual-web.pdf\n",
    "\n",
    "### Step 2\n",
    "A water sample was prepared with a chlorophyll concentration of 6.5mg/L and \n",
    "an RFU of 15.8 RFU. This water sample was prepared with rhodamine dye and DI water\n",
    "\n",
    "\n",
    "\n",
    "#### Chlorophyll Sample Preparation\n",
    "###### Step 1\n",
    "5mL of Rhodamine dye was pitpetted into a 1000mL volumetric flask or beaker. Fill \n",
    "the flask or beaker up to 1000mL mark with DI water\n",
    "    \n",
    "###### Step 2\n",
    "Pipette 5mL of the prepared solution in step 1 into a separate 1000mL volumetric\n",
    "flask or beaker. Fill this flask or beaker up to 1000mL mark with DI water. This\n",
    "will be your chlorphyll water sample\n",
    "\n",
    "###### Step 3\n",
    "Verify the concentration of the prepared chlorphyll water sample with the YSI\n",
    "\n",
    "\n",
    "\n",
    "    \n",
    "### Step 3\n",
    "Insert an empty cuvette into the flurometer housing. Cover the flurometer with a \n",
    "cardboard box to ensure it is in complete darkness. Modify the code to turn the LED OFF\n",
    "and run for 1 minute \n",
    "\n",
    "### Step 4\n",
    "Repeat step 3 with the LED ON \n",
    "\n",
    "### Step 5\n",
    "Stop readings and take the empty cuvette out of the flurometer. Insert a cuvette \n",
    "filled with DI water into the flurometer. Recover with the box and run the code \n",
    "with the LED ON for one minute\n",
    "\n",
    "### Step 6\n",
    "Stop readings and take the cuvette filled with DI water out of the flurometer. \n",
    "Insert a cuvette filled with chlorphyll water solution into the flurometer. \n",
    "Recover with the box and run the code with the LED ON for one minute\n",
    "\n",
    "### Step 7\n",
    "Stop testing anf take the SD card out of the flurometer and plug it into the \n",
    "computer ot begin analysis of the data collected. \n",
    "\n",
    "### Step 8\n",
    "This test will be perfored first with an LED intensity of 250 and a TSL 2591\n",
    "gain of HIGH and then repeated with a LED intensity of 255 and a TSL 2591\n",
    "gain of MAX. \n",
    "\n",
    "\n",
    "## Data Analysis \n",
    "\n",
    "### Graphing \n",
    "When taking measurements the TSL 2591 light sensor collects light measurememts \n",
    "of Visible, Full, IR and Lux. Data analysis will be performed on Visible, Full\n",
    "and Lux. "
   ]
  },
  {
   "cell_type": "markdown",
   "id": "947962fb",
   "metadata": {},
   "source": [
    "#### Step 1\n",
    "import necessary modules"
   ]
  },
  {
   "cell_type": "code",
   "execution_count": 1,
   "id": "fe86b097",
   "metadata": {},
   "outputs": [
    {
     "ename": "ModuleNotFoundError",
     "evalue": "No module named 'pandas'",
     "output_type": "error",
     "traceback": [
      "\u001b[0;31m---------------------------------------------------------------------------\u001b[0m",
      "\u001b[0;31mModuleNotFoundError\u001b[0m                       Traceback (most recent call last)",
      "Cell \u001b[0;32mIn[1], line 1\u001b[0m\n\u001b[0;32m----> 1\u001b[0m \u001b[38;5;28;01mimport\u001b[39;00m \u001b[38;5;21;01mpandas\u001b[39;00m \u001b[38;5;28;01mas\u001b[39;00m \u001b[38;5;21;01mpd\u001b[39;00m\n\u001b[1;32m      2\u001b[0m \u001b[38;5;28;01mimport\u001b[39;00m \u001b[38;5;21;01mmatplotlib\u001b[39;00m\u001b[38;5;21;01m.\u001b[39;00m\u001b[38;5;21;01mpyplot\u001b[39;00m \u001b[38;5;28;01mas\u001b[39;00m \u001b[38;5;21;01mplt\u001b[39;00m\n\u001b[1;32m      3\u001b[0m \u001b[38;5;28;01mimport\u001b[39;00m \u001b[38;5;21;01mnumpy\u001b[39;00m \u001b[38;5;28;01mas\u001b[39;00m \u001b[38;5;21;01mnp\u001b[39;00m\n",
      "\u001b[0;31mModuleNotFoundError\u001b[0m: No module named 'pandas'"
     ]
    }
   ],
   "source": [
    "import pandas as pd\n",
    "import matplotlib.pyplot as plt\n",
    "import numpy as np"
   ]
  },
  {
   "cell_type": "markdown",
   "id": "32ce4e6a",
   "metadata": {},
   "source": [
    "#### Step 2 \n",
    "import file path, .csv file and define columns. Uncomment the light catagorey that is to be analyzed "
   ]
  },
  {
   "cell_type": "code",
   "execution_count": 2,
   "id": "5c7ce835",
   "metadata": {},
   "outputs": [
    {
     "ename": "NameError",
     "evalue": "name 'pd' is not defined",
     "output_type": "error",
     "traceback": [
      "\u001b[0;31m---------------------------------------------------------------------------\u001b[0m",
      "\u001b[0;31mNameError\u001b[0m                                 Traceback (most recent call last)",
      "Cell \u001b[0;32mIn[2], line 5\u001b[0m\n\u001b[1;32m      2\u001b[0m file_path \u001b[38;5;241m=\u001b[39m \u001b[38;5;124m\"\u001b[39m\u001b[38;5;124m/Users/jessiewynne/chla_fluorometer/chlorphyll sample tests 7.28.23/chl_test_5_gain_high_250_light_7.28.23.csv\u001b[39m\u001b[38;5;124m\"\u001b[39m\n\u001b[1;32m      4\u001b[0m \u001b[38;5;66;03m# Skip the rows with duplicate headers while reading the CSV file\u001b[39;00m\n\u001b[0;32m----> 5\u001b[0m df \u001b[38;5;241m=\u001b[39m \u001b[43mpd\u001b[49m\u001b[38;5;241m.\u001b[39mread_csv(file_path, encoding\u001b[38;5;241m=\u001b[39m\u001b[38;5;124m'\u001b[39m\u001b[38;5;124mutf-8\u001b[39m\u001b[38;5;124m'\u001b[39m, skiprows\u001b[38;5;241m=\u001b[39m[\u001b[38;5;241m1\u001b[39m])\n\u001b[1;32m      7\u001b[0m \u001b[38;5;66;03m# Access the 'seconds' column\u001b[39;00m\n\u001b[1;32m      8\u001b[0m seconds_values \u001b[38;5;241m=\u001b[39m df[\u001b[38;5;124m'\u001b[39m\u001b[38;5;124mSeconds\u001b[39m\u001b[38;5;124m'\u001b[39m][\u001b[38;5;241m1\u001b[39m:]\n",
      "\u001b[0;31mNameError\u001b[0m: name 'pd' is not defined"
     ]
    }
   ],
   "source": [
    "# Replace with the actual file path\n",
    "file_path = \"/Users/jessiewynne/chla_fluorometer/chlorphyll sample tests 7.28.23/chl_test_5_gain_high_250_light_7.28.23.csv\"\n",
    "\n",
    "# Skip the rows with duplicate headers while reading the CSV file\n",
    "df = pd.read_csv(file_path, encoding='utf-8', skiprows=[1])\n",
    "\n",
    "# Access the 'seconds' column\n",
    "seconds_values = df['Seconds'][1:]\n",
    "\n",
    "# Access different light measurements\n",
    "# visible_values = df['Visible'][1:]  # Exclude the header row\n",
    "# lux_values = df['Lux'][1:]          # Exclude the header row\n",
    "full_values = df['Full'][1:]        # Exclude the header row\n",
    "\n",
    "# Convert to numeric\n",
    "# visible_values = pd.to_numeric(visible_values, errors='coerce').dropna()\n",
    "# lux_values = pd.to_numeric(lux_values, errors='coerce').dropna()\n",
    "full_values = pd.to_numeric(full_values, errors='coerce').dropna()\n",
    "x_axis = pd.to_numeric(seconds_values, errors='coerce').dropna()\n",
    "\n",
    "# Get unique test categories from the 'Test' column\n",
    "categories = df['Test'].unique()\n",
    "categories = [category for category in categories if category.lower() != 'test']  # Remove 'test' from the categories\n",
    "\n",
    "# Create dictionaries to store the light values for each category\n",
    "# category_visible_dict = {}\n",
    "# category_lux_dict = {}\n",
    "category_full_dict = {}"
   ]
  },
  {
   "cell_type": "markdown",
   "id": "5f0ff92e",
   "metadata": {},
   "source": [
    "#### Step 3 \n",
    "calculate mean, minimum and maximum for each light measurement catagorey as well as the positive and\n",
    "negative errors"
   ]
  },
  {
   "cell_type": "code",
   "execution_count": 3,
   "id": "084519a6",
   "metadata": {},
   "outputs": [
    {
     "ename": "NameError",
     "evalue": "name 'categories' is not defined",
     "output_type": "error",
     "traceback": [
      "\u001b[0;31m---------------------------------------------------------------------------\u001b[0m",
      "\u001b[0;31mNameError\u001b[0m                                 Traceback (most recent call last)",
      "Cell \u001b[0;32mIn[3], line 1\u001b[0m\n\u001b[0;32m----> 1\u001b[0m \u001b[38;5;28;01mfor\u001b[39;00m category \u001b[38;5;129;01min\u001b[39;00m \u001b[43mcategories\u001b[49m:\n\u001b[1;32m      2\u001b[0m     \u001b[38;5;66;03m# category_visible_dict[category] = visible_values[df['Test'] == category]\u001b[39;00m\n\u001b[1;32m      3\u001b[0m     \u001b[38;5;66;03m# category_lux_dict[category] = lux_values[df['Test'] == category]\u001b[39;00m\n\u001b[1;32m      4\u001b[0m     category_full_dict[category] \u001b[38;5;241m=\u001b[39m full_values[df[\u001b[38;5;124m'\u001b[39m\u001b[38;5;124mTest\u001b[39m\u001b[38;5;124m'\u001b[39m] \u001b[38;5;241m==\u001b[39m category]\n\u001b[1;32m      6\u001b[0m \u001b[38;5;66;03m# Calculate the mean, minimum, and maximum for each category for each light measurement\u001b[39;00m\n\u001b[1;32m      7\u001b[0m \u001b[38;5;66;03m# category_visible_means = np.array([np.mean(visible_vals) for visible_vals in category_visible_dict.values()])\u001b[39;00m\n\u001b[1;32m      8\u001b[0m \u001b[38;5;66;03m# category_visible_mins = np.array([np.min(visible_vals) for visible_vals in category_visible_dict.values()])\u001b[39;00m\n\u001b[0;32m   (...)\u001b[0m\n\u001b[1;32m     12\u001b[0m \u001b[38;5;66;03m# category_lux_mins = np.array([np.min(lux_vals) for lux_vals in category_lux_dict.values()])\u001b[39;00m\n\u001b[1;32m     13\u001b[0m \u001b[38;5;66;03m# category_lux_maxs = np.array([np.max(lux_vals) for lux_vals in category_lux_dict.values()])\u001b[39;00m\n",
      "\u001b[0;31mNameError\u001b[0m: name 'categories' is not defined"
     ]
    }
   ],
   "source": [
    "for category in categories:\n",
    "    # category_visible_dict[category] = visible_values[df['Test'] == category]\n",
    "    # category_lux_dict[category] = lux_values[df['Test'] == category]\n",
    "    category_full_dict[category] = full_values[df['Test'] == category]\n",
    "\n",
    "# Calculate the mean, minimum, and maximum for each category for each light measurement\n",
    "# category_visible_means = np.array([np.mean(visible_vals) for visible_vals in category_visible_dict.values()])\n",
    "# category_visible_mins = np.array([np.min(visible_vals) for visible_vals in category_visible_dict.values()])\n",
    "# category_visible_maxs = np.array([np.max(visible_vals) for visible_vals in category_visible_dict.values()])\n",
    "\n",
    "# category_lux_means = np.array([np.mean(lux_vals) for lux_vals in category_lux_dict.values()])\n",
    "# category_lux_mins = np.array([np.min(lux_vals) for lux_vals in category_lux_dict.values()])\n",
    "# category_lux_maxs = np.array([np.max(lux_vals) for lux_vals in category_lux_dict.values()])\n",
    "\n",
    "category_full_means = np.array([np.mean(full_vals) for full_vals in category_full_dict.values()])\n",
    "category_full_mins = np.array([np.min(full_vals) for full_vals in category_full_dict.values()])\n",
    "category_full_maxs = np.array([np.max(full_vals) for full_vals in category_full_dict.values()])\n",
    "\n",
    "# Calculate the positive and negative errors (distance from mean to maximum and minimum) for each light measurement\n",
    "# yerr_pos_visible = np.abs(category_visible_maxs - category_visible_means)\n",
    "# yerr_neg_visible = np.abs(category_visible_means - category_visible_mins)\n",
    "\n",
    "# yerr_pos_lux = np.abs(category_lux_maxs - category_lux_means)\n",
    "# yerr_neg_lux = np.abs(category_lux_means - category_lux_mins)\n",
    "\n",
    "yerr_pos_full = np.abs(category_full_maxs - category_full_means)\n",
    "yerr_neg_full = np.abs(category_full_means - category_full_mins)\n"
   ]
  },
  {
   "cell_type": "markdown",
   "id": "f7ba4459",
   "metadata": {},
   "source": [
    "#### Step 4\n",
    "plot, create a scatter plot based on the light measurement being analyzed "
   ]
  },
  {
   "cell_type": "code",
   "execution_count": 4,
   "id": "c51e0da9",
   "metadata": {},
   "outputs": [
    {
     "ename": "NameError",
     "evalue": "name 'np' is not defined",
     "output_type": "error",
     "traceback": [
      "\u001b[0;31m---------------------------------------------------------------------------\u001b[0m",
      "\u001b[0;31mNameError\u001b[0m                                 Traceback (most recent call last)",
      "Cell \u001b[0;32mIn[4], line 2\u001b[0m\n\u001b[1;32m      1\u001b[0m \u001b[38;5;66;03m# Prepare data for scatter plot\u001b[39;00m\n\u001b[0;32m----> 2\u001b[0m x_data \u001b[38;5;241m=\u001b[39m \u001b[43mnp\u001b[49m\u001b[38;5;241m.\u001b[39marange(\u001b[38;5;28mlen\u001b[39m(categories))\n\u001b[1;32m      4\u001b[0m \u001b[38;5;66;03m# Scatter plot for all visible values\u001b[39;00m\n\u001b[1;32m      5\u001b[0m \u001b[38;5;66;03m# plt.scatter(x_data, category_visible_means, label='Visible Measurements')\u001b[39;00m\n\u001b[1;32m      6\u001b[0m \u001b[38;5;66;03m# plt.errorbar(x_data, category_visible_means, yerr=[yerr_neg_visible, yerr_pos_visible], fmt='o', capsize=3, ecolor='black')\u001b[39;00m\n\u001b[0;32m   (...)\u001b[0m\n\u001b[1;32m     11\u001b[0m \n\u001b[1;32m     12\u001b[0m \u001b[38;5;66;03m# # Scatter plot for all full values\u001b[39;00m\n\u001b[1;32m     13\u001b[0m plt\u001b[38;5;241m.\u001b[39mscatter(x_data, category_full_means, label\u001b[38;5;241m=\u001b[39m\u001b[38;5;124m'\u001b[39m\u001b[38;5;124mFull Measurements\u001b[39m\u001b[38;5;124m'\u001b[39m)\n",
      "\u001b[0;31mNameError\u001b[0m: name 'np' is not defined"
     ]
    }
   ],
   "source": [
    "# Prepare data for scatter plot\n",
    "x_data = np.arange(len(categories))\n",
    "\n",
    "# Scatter plot for all visible values\n",
    "# plt.scatter(x_data, category_visible_means, label='Visible Measurements')\n",
    "# plt.errorbar(x_data, category_visible_means, yerr=[yerr_neg_visible, yerr_pos_visible], fmt='o', capsize=3, ecolor='black')\n",
    "\n",
    "# # Scatter plot for all lux values\n",
    "# plt.scatter(x_data, category_lux_means, label='Lux Measurements')\n",
    "# plt.errorbar(x_data, category_lux_means, yerr=[yerr_neg_lux, yerr_pos_lux], fmt='o', capsize=3, ecolor='black')\n",
    "\n",
    "# # Scatter plot for all full values\n",
    "plt.scatter(x_data, category_full_means, label='Full Measurements')\n",
    "plt.errorbar(x_data, category_full_means, yerr=[yerr_neg_full, yerr_pos_full], fmt='o', capsize=3, ecolor='black')"
   ]
  },
  {
   "cell_type": "markdown",
   "id": "e056a6da",
   "metadata": {},
   "source": [
    "#### Step 5\n",
    "label the y axis based on the light measurement being analyzed. Create a title thst conveys what data is \n",
    "present on the graph"
   ]
  },
  {
   "cell_type": "code",
   "execution_count": 5,
   "id": "4a4869e4",
   "metadata": {},
   "outputs": [
    {
     "ename": "NameError",
     "evalue": "name 'plt' is not defined",
     "output_type": "error",
     "traceback": [
      "\u001b[0;31m---------------------------------------------------------------------------\u001b[0m",
      "\u001b[0;31mNameError\u001b[0m                                 Traceback (most recent call last)",
      "Cell \u001b[0;32mIn[5], line 1\u001b[0m\n\u001b[0;32m----> 1\u001b[0m \u001b[43mplt\u001b[49m\u001b[38;5;241m.\u001b[39mylabel(\u001b[38;5;124m'\u001b[39m\u001b[38;5;124mMeasurement Values\u001b[39m\u001b[38;5;124m'\u001b[39m)\n\u001b[1;32m      2\u001b[0m plt\u001b[38;5;241m.\u001b[39mtitle(\u001b[38;5;124m\"\u001b[39m\u001b[38;5;124mChlorophyll Sensor Sample Tests LED 250, Gain HIGH\u001b[39m\u001b[38;5;124m\"\u001b[39m)\n\u001b[1;32m      4\u001b[0m plt\u001b[38;5;241m.\u001b[39mxticks(x_data, labels\u001b[38;5;241m=\u001b[39mcategories, rotation\u001b[38;5;241m=\u001b[39m\u001b[38;5;241m45\u001b[39m)\n",
      "\u001b[0;31mNameError\u001b[0m: name 'plt' is not defined"
     ]
    }
   ],
   "source": [
    "plt.ylabel('Measurement Values')\n",
    "plt.title(\"Chlorophyll Sensor Sample Tests LED 250, Gain HIGH\")\n",
    "\n",
    "plt.xticks(x_data, labels=categories, rotation=45)\n",
    "\n",
    "plt.legend()\n",
    "plt.tight_layout()\n",
    "plt.show()"
   ]
  },
  {
   "cell_type": "markdown",
   "id": "21a9196a",
   "metadata": {},
   "source": [
    "## Lux Graphs \n",
    "\n",
    "## Visible Graphs \n",
    "\n",
    "## Full Graphs "
   ]
  },
  {
   "cell_type": "code",
   "execution_count": null,
   "id": "fc64be3a",
   "metadata": {},
   "outputs": [],
   "source": []
  }
 ],
 "metadata": {
  "kernelspec": {
   "display_name": "Python 3 (ipykernel)",
   "language": "python",
   "name": "python3"
  },
  "language_info": {
   "codemirror_mode": {
    "name": "ipython",
    "version": 3
   },
   "file_extension": ".py",
   "mimetype": "text/x-python",
   "name": "python",
   "nbconvert_exporter": "python",
   "pygments_lexer": "ipython3",
   "version": "3.10.11"
  }
 },
 "nbformat": 4,
 "nbformat_minor": 5
}
