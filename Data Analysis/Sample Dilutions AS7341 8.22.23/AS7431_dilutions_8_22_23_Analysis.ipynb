{
 "cells": [
  {
   "cell_type": "markdown",
   "metadata": {},
   "source": [
    "# AS7341 8.22.23 Dillution Tests\n",
    "This is an analysis of the AS7341 8.22.23 Dillution Tests. This file contains the code for each of the analyses performed on the 128x Gain, 256x Gain, and 512x Gain dilution tests complete with confidence intervals, uncertainty percentages, RSME, and R2 values."
   ]
  },
  {
   "cell_type": "markdown",
   "metadata": {},
   "source": [
    "## 95% Confidence Intervals"
   ]
  },
  {
   "cell_type": "markdown",
   "metadata": {},
   "source": [
    "### 128x Gain Confidence Interval"
   ]
  },
  {
   "cell_type": "code",
   "execution_count": 2,
   "metadata": {},
   "outputs": [
    {
     "name": "stdout",
     "output_type": "stream",
     "text": [
      "\n",
      "Entire Dataset:\n",
      "95% Confidence Interval for F8 (Raw): 4.6782 to 5.2549\n",
      "Range of Uncertainty (95% CI Width) for Entire Dataset: 0.5768\n",
      "\n"
     ]
    }
   ],
   "source": [
    "import pandas as pd\n",
    "import matplotlib.pyplot as plt\n",
    "import numpy as np\n",
    "from scipy.stats import linregress, t\n",
    "from sklearn.metrics import r2_score, mean_squared_error\n",
    "\n",
    "# Replace with the actual file path\n",
    "file_path = \"/Users/jessiewynne/chla_fluorometer/AS7341 Dillutions 8.22/AS7341_128gain_8_22.csv\"\n",
    "# Read the CSV file without skipping any rows\n",
    "df = pd.read_csv(file_path, encoding='utf-8')\n",
    "\n",
    "# Filter out rows where the 'Test' column is 'test'\n",
    "df = df[df['Test'].str.lower() != 'test']\n",
    "\n",
    "# Convert 'F8 (Raw)' column to numeric values\n",
    "df['F8 (Raw)'] = pd.to_numeric(df['F8 (Raw)'], errors='coerce')\n",
    "\n",
    "# Get unique test categories (dilution values) in the order of appearance\n",
    "categories = df['Test'].unique()\n",
    "\n",
    "# Create a dictionary to store the 'F8 (Raw)' values for each category (dilution)\n",
    "category_f8_raw_dict = {}\n",
    "\n",
    "# Create dictionaries to store confidence intervals and ranges of uncertainty\n",
    "confidence_intervals = {}\n",
    "\n",
    "# Calculate the mean and standard deviation for the entire dataset for 'F8 (Raw)' data\n",
    "dataset_f8_raw_mean = df['F8 (Raw)'].mean()\n",
    "dataset_f8_raw_std = df['F8 (Raw)'].std()\n",
    "\n",
    "# Calculate the sample size for the entire dataset\n",
    "dataset_sample_size = len(df['F8 (Raw)'])\n",
    "\n",
    "# Calculate the standard error for the entire dataset's mean\n",
    "dataset_standard_error = dataset_f8_raw_std / np.sqrt(dataset_sample_size)\n",
    "\n",
    "# Calculate the margin of error using the t-distribution\n",
    "confidence_level = 0.95\n",
    "margin_of_error = t.ppf((1 + confidence_level) / 2, dataset_sample_size - 1) * dataset_standard_error\n",
    "\n",
    "# Calculate the confidence interval for the entire dataset's mean\n",
    "confidence_interval = (dataset_f8_raw_mean - margin_of_error, dataset_f8_raw_mean + margin_of_error)\n",
    "# Calculate the range of uncertainty (95% CI width) for the entire dataset\n",
    "uncertainty_range = confidence_interval[1] - confidence_interval[0]\n",
    "\n",
    "# Print the confidence interval and range of uncertainty for the entire dataset\n",
    "print(\"\\nEntire Dataset:\")\n",
    "print(f\"95% Confidence Interval for F8 (Raw): {confidence_interval[0]:.4f} to {confidence_interval[1]:.4f}\")\n",
    "print(f\"Range of Uncertainty (95% CI Width) for Entire Dataset: {uncertainty_range:.4f}\")\n",
    "print()"
   ]
  },
  {
   "cell_type": "markdown",
   "metadata": {},
   "source": [
    "### 256x Gain Confidence Interval"
   ]
  },
  {
   "cell_type": "code",
   "execution_count": 3,
   "metadata": {},
   "outputs": [
    {
     "name": "stdout",
     "output_type": "stream",
     "text": [
      "\n",
      "Entire Dataset:\n",
      "95% Confidence Interval for F8 (Raw): 9.3672 to 10.5321\n",
      "Range of Uncertainty (95% CI Width) for Entire Dataset: 1.1649\n",
      "\n"
     ]
    }
   ],
   "source": [
    "import pandas as pd\n",
    "import matplotlib.pyplot as plt\n",
    "import numpy as np\n",
    "from scipy.stats import linregress, t\n",
    "from sklearn.metrics import r2_score, mean_squared_error\n",
    "\n",
    "# Replace with the actual file path\n",
    "file_path = \"/Users/jessiewynne/chla_fluorometer/AS7341 Dillutions 8.22/AS7341_256gain_8_22.csv\"\n",
    "# Read the CSV file without skipping any rows\n",
    "df = pd.read_csv(file_path, encoding='utf-8')\n",
    "\n",
    "# Filter out rows where the 'Test' column is 'test'\n",
    "df = df[df['Test'].str.lower() != 'test']\n",
    "\n",
    "# Convert 'F8 (Raw)' column to numeric values\n",
    "df['F8 (Raw)'] = pd.to_numeric(df['F8 (Raw)'], errors='coerce')\n",
    "\n",
    "# Get unique test categories (dilution values) in the order of appearance\n",
    "categories = df['Test'].unique()\n",
    "\n",
    "# Create a dictionary to store the 'F8 (Raw)' values for each category (dilution)\n",
    "category_f8_raw_dict = {}\n",
    "\n",
    "# Create dictionaries to store confidence intervals and ranges of uncertainty\n",
    "confidence_intervals = {}\n",
    "\n",
    "# Calculate the mean and standard deviation for the entire dataset for 'F8 (Raw)' data\n",
    "dataset_f8_raw_mean = df['F8 (Raw)'].mean()\n",
    "dataset_f8_raw_std = df['F8 (Raw)'].std()\n",
    "\n",
    "# Calculate the sample size for the entire dataset\n",
    "dataset_sample_size = len(df['F8 (Raw)'])\n",
    "\n",
    "# Calculate the standard error for the entire dataset's mean\n",
    "dataset_standard_error = dataset_f8_raw_std / np.sqrt(dataset_sample_size)\n",
    "\n",
    "# Calculate the margin of error using the t-distribution\n",
    "confidence_level = 0.95\n",
    "margin_of_error = t.ppf((1 + confidence_level) / 2, dataset_sample_size - 1) * dataset_standard_error\n",
    "\n",
    "# Calculate the confidence interval for the entire dataset's mean\n",
    "confidence_interval = (dataset_f8_raw_mean - margin_of_error, dataset_f8_raw_mean + margin_of_error)\n",
    "# Calculate the range of uncertainty (95% CI width) for the entire dataset\n",
    "uncertainty_range = confidence_interval[1] - confidence_interval[0]\n",
    "\n",
    "# Print the confidence interval and range of uncertainty for the entire dataset\n",
    "print(\"\\nEntire Dataset:\")\n",
    "print(f\"95% Confidence Interval for F8 (Raw): {confidence_interval[0]:.4f} to {confidence_interval[1]:.4f}\")\n",
    "print(f\"Range of Uncertainty (95% CI Width) for Entire Dataset: {uncertainty_range:.4f}\")\n",
    "print()"
   ]
  },
  {
   "cell_type": "markdown",
   "metadata": {},
   "source": [
    "## 512x Gain Confidence Interval"
   ]
  },
  {
   "cell_type": "code",
   "execution_count": 4,
   "metadata": {},
   "outputs": [
    {
     "name": "stdout",
     "output_type": "stream",
     "text": [
      "\n",
      "Entire Dataset:\n",
      "95% Confidence Interval for F8 (Raw): 18.9602 to 21.2462\n",
      "Range of Uncertainty (95% CI Width) for Entire Dataset: 2.2860\n",
      "\n"
     ]
    }
   ],
   "source": [
    "# Replace with the actual file path\n",
    "file_path = \"/Users/jessiewynne/chla_fluorometer/AS7341 Dillutions 8.22/AS7341_512Gain_8_22_2.csv\"\n",
    "# Read the CSV file without skipping any rows\n",
    "df = pd.read_csv(file_path, encoding='utf-8')\n",
    "\n",
    "# Filter out rows where the 'Test' column is 'test'\n",
    "df = df[df['Test'].str.lower() != 'test']\n",
    "\n",
    "# Convert 'F8 (Raw)' column to numeric values\n",
    "df['F8 (Raw)'] = pd.to_numeric(df['F8 (Raw)'], errors='coerce')\n",
    "\n",
    "# Get unique test categories (dilution values) in the order of appearance\n",
    "categories = df['Test'].unique()\n",
    "\n",
    "# Create a dictionary to store the 'F8 (Raw)' values for each category (dilution)\n",
    "category_f8_raw_dict = {}\n",
    "\n",
    "# Create dictionaries to store confidence intervals and ranges of uncertainty\n",
    "confidence_intervals = {}\n",
    "\n",
    "# Calculate the mean and standard deviation for the entire dataset for 'F8 (Raw)' data\n",
    "dataset_f8_raw_mean = df['F8 (Raw)'].mean()\n",
    "dataset_f8_raw_std = df['F8 (Raw)'].std()\n",
    "\n",
    "# Calculate the sample size for the entire dataset\n",
    "dataset_sample_size = len(df['F8 (Raw)'])\n",
    "\n",
    "# Calculate the standard error for the entire dataset's mean\n",
    "dataset_standard_error = dataset_f8_raw_std / np.sqrt(dataset_sample_size)\n",
    "\n",
    "# Calculate the margin of error using the t-distribution\n",
    "confidence_level = 0.95\n",
    "margin_of_error = t.ppf((1 + confidence_level) / 2, dataset_sample_size - 1) * dataset_standard_error\n",
    "\n",
    "# Calculate the confidence interval for the entire dataset's mean\n",
    "confidence_interval = (dataset_f8_raw_mean - margin_of_error, dataset_f8_raw_mean + margin_of_error)\n",
    "# Calculate the range of uncertainty (95% CI width) for the entire dataset\n",
    "uncertainty_range = confidence_interval[1] - confidence_interval[0]\n",
    "\n",
    "# Print the confidence interval and range of uncertainty for the entire dataset\n",
    "print(\"\\nEntire Dataset:\")\n",
    "print(f\"95% Confidence Interval for F8 (Raw): {confidence_interval[0]:.4f} to {confidence_interval[1]:.4f}\")\n",
    "print(f\"Range of Uncertainty (95% CI Width) for Entire Dataset: {uncertainty_range:.4f}\")\n",
    "print()"
   ]
  },
  {
   "cell_type": "markdown",
   "metadata": {},
   "source": [
    "## Confidence Interval Analysis"
   ]
  },
  {
   "cell_type": "markdown",
   "metadata": {},
   "source": [
    "The 128x Gain Dilution Tests has the smallest Confidence Interval widths, while the 512x Gain has the largest. This points to a correlation between the increase in AS7341 Gain and an increase in variability of chlorophyll a measurements. "
   ]
  },
  {
   "cell_type": "markdown",
   "metadata": {},
   "source": [
    "## RMSE"
   ]
  },
  {
   "cell_type": "markdown",
   "metadata": {},
   "source": [
    "### 128x Gain RMSE"
   ]
  },
  {
   "cell_type": "code",
   "execution_count": 14,
   "metadata": {},
   "outputs": [
    {
     "name": "stdout",
     "output_type": "stream",
     "text": [
      "0.3350284957312303\n"
     ]
    }
   ],
   "source": [
    "# RMSE\n",
    "# Replace with the actual file path\n",
    "file_path = \"/Users/jessiewynne/chla_fluorometer/AS7341 Dillutions 8.22/AS7341_128gain_8_22.csv\"\n",
    "# Read the CSV file without skipping any rows\n",
    "df = pd.read_csv(file_path, encoding='utf-8')\n",
    "\n",
    "# Filter out rows where the 'Test' column is 'test'\n",
    "df = df[df['Test'].str.lower() != 'test']\n",
    "\n",
    "# Convert 'F8 (Raw)' column to numeric values\n",
    "df['F8 (Raw)'] = pd.to_numeric(df['F8 (Raw)'], errors='coerce')\n",
    "# Get unique test categories in the order of appearance\n",
    "categories = df['Test'].unique()\n",
    "\n",
    "# Create a dictionary to store the 'F8 (Raw)' values for each category\n",
    "category_f8_raw_dict = {}\n",
    "# Store unique x-values and their corresponding data points\n",
    "x_values = []\n",
    "y_values = []\n",
    "std_devs = []\n",
    "\n",
    "for category in categories:\n",
    "    # Exclude the first data point from each category\n",
    "    category_df = df[df['Test'] == category][1:]\n",
    "    category_f8_raw_dict[category] = category_df['F8 (Raw)']\n",
    "\n",
    "    # Calculate the mean and standard deviation for 'F8 (Raw)' data in each category\n",
    "    category_f8_raw_mean = category_df['F8 (Raw)'].mean()\n",
    "    category_f8_raw_std = category_df['F8 (Raw)'].std()\n",
    "\n",
    "    # Calculate the sample size for each category\n",
    "    category_sample_size = len(category_df['F8 (Raw)'])\n",
    "\n",
    "    try:\n",
    "        x_value = float(category)\n",
    "        x_values.append(x_value)\n",
    "        y_values.append(category_f8_raw_mean)\n",
    "        std_devs.append(category_f8_raw_std)\n",
    "    except ValueError:\n",
    "        pass\n",
    "\n",
    "\n",
    "# Calculate the line of best fit parameters (slope and intercept)\n",
    "slope, intercept, r_value, p_value, std_err = linregress(x_values, y_values)\n",
    "\n",
    "def predict_values(x, slope, intercept):\n",
    "    return slope * x + intercept\n",
    "# Calculate R-squared and RMSE\n",
    "y_predicted = predict_values(np.array(x_values), slope, intercept)\n",
    "rmse = np.sqrt(mean_squared_error(y_values, y_predicted))\n",
    "print(rmse)"
   ]
  },
  {
   "cell_type": "markdown",
   "metadata": {},
   "source": [
    "### 256x Gain RMSE"
   ]
  },
  {
   "cell_type": "code",
   "execution_count": 15,
   "metadata": {},
   "outputs": [
    {
     "name": "stdout",
     "output_type": "stream",
     "text": [
      "0.6428398053735719\n"
     ]
    }
   ],
   "source": [
    "# RMSE\n",
    "# Replace with the actual file path\n",
    "file_path = \"/Users/jessiewynne/chla_fluorometer/AS7341 Dillutions 8.22/AS7341_256gain_8_22.csv\"\n",
    "# Read the CSV file without skipping any rows\n",
    "df = pd.read_csv(file_path, encoding='utf-8')\n",
    "\n",
    "# Filter out rows where the 'Test' column is 'test'\n",
    "df = df[df['Test'].str.lower() != 'test']\n",
    "\n",
    "# Convert 'F8 (Raw)' column to numeric values\n",
    "df['F8 (Raw)'] = pd.to_numeric(df['F8 (Raw)'], errors='coerce')\n",
    "# Get unique test categories in the order of appearance\n",
    "categories = df['Test'].unique()\n",
    "\n",
    "# Create a dictionary to store the 'F8 (Raw)' values for each category\n",
    "category_f8_raw_dict = {}\n",
    "# Store unique x-values and their corresponding data points\n",
    "x_values = []\n",
    "y_values = []\n",
    "std_devs = []\n",
    "\n",
    "for category in categories:\n",
    "    # Exclude the first data point from each category\n",
    "    category_df = df[df['Test'] == category][1:]\n",
    "    category_f8_raw_dict[category] = category_df['F8 (Raw)']\n",
    "\n",
    "    # Calculate the mean and standard deviation for 'F8 (Raw)' data in each category\n",
    "    category_f8_raw_mean = category_df['F8 (Raw)'].mean()\n",
    "    category_f8_raw_std = category_df['F8 (Raw)'].std()\n",
    "\n",
    "    # Calculate the sample size for each category\n",
    "    category_sample_size = len(category_df['F8 (Raw)'])\n",
    "\n",
    "    try:\n",
    "        x_value = float(category)\n",
    "        x_values.append(x_value)\n",
    "        y_values.append(category_f8_raw_mean)\n",
    "        std_devs.append(category_f8_raw_std)\n",
    "    except ValueError:\n",
    "        pass\n",
    "\n",
    "\n",
    "# Calculate the line of best fit parameters (slope and intercept)\n",
    "slope, intercept, r_value, p_value, std_err = linregress(x_values, y_values)\n",
    "\n",
    "def predict_values(x, slope, intercept):\n",
    "    return slope * x + intercept\n",
    "# Calculate R-squared and RMSE\n",
    "y_predicted = predict_values(np.array(x_values), slope, intercept)\n",
    "rmse = np.sqrt(mean_squared_error(y_values, y_predicted))\n",
    "print(rmse)"
   ]
  },
  {
   "cell_type": "markdown",
   "metadata": {},
   "source": [
    "### 512x Gain RMSE"
   ]
  },
  {
   "cell_type": "code",
   "execution_count": 16,
   "metadata": {},
   "outputs": [
    {
     "name": "stdout",
     "output_type": "stream",
     "text": [
      "1.664974628729618\n"
     ]
    }
   ],
   "source": [
    "# RMSE\n",
    "# Replace with the actual file path\n",
    "file_path = \"/Users/jessiewynne/chla_fluorometer/AS7341 Dillutions 8.22/AS7341_512Gain_8_22_2.csv\"\n",
    "# Read the CSV file without skipping any rows\n",
    "df = pd.read_csv(file_path, encoding='utf-8')\n",
    "\n",
    "# Filter out rows where the 'Test' column is 'test'\n",
    "df = df[df['Test'].str.lower() != 'test']\n",
    "\n",
    "# Convert 'F8 (Raw)' column to numeric values\n",
    "df['F8 (Raw)'] = pd.to_numeric(df['F8 (Raw)'], errors='coerce')\n",
    "# Get unique test categories in the order of appearance\n",
    "categories = df['Test'].unique()\n",
    "\n",
    "# Create a dictionary to store the 'F8 (Raw)' values for each category\n",
    "category_f8_raw_dict = {}\n",
    "# Store unique x-values and their corresponding data points\n",
    "x_values = []\n",
    "y_values = []\n",
    "std_devs = []\n",
    "\n",
    "for category in categories:\n",
    "    # Exclude the first data point from each category\n",
    "    category_df = df[df['Test'] == category][1:]\n",
    "    category_f8_raw_dict[category] = category_df['F8 (Raw)']\n",
    "\n",
    "    # Calculate the mean and standard deviation for 'F8 (Raw)' data in each category\n",
    "    category_f8_raw_mean = category_df['F8 (Raw)'].mean()\n",
    "    category_f8_raw_std = category_df['F8 (Raw)'].std()\n",
    "\n",
    "    # Calculate the sample size for each category\n",
    "    category_sample_size = len(category_df['F8 (Raw)'])\n",
    "\n",
    "    try:\n",
    "        x_value = float(category)\n",
    "        x_values.append(x_value)\n",
    "        y_values.append(category_f8_raw_mean)\n",
    "        std_devs.append(category_f8_raw_std)\n",
    "    except ValueError:\n",
    "        pass\n",
    "\n",
    "\n",
    "# Calculate the line of best fit parameters (slope and intercept)\n",
    "slope, intercept, r_value, p_value, std_err = linregress(x_values, y_values)\n",
    "\n",
    "def predict_values(x, slope, intercept):\n",
    "    return slope * x + intercept\n",
    "# Calculate R-squared and RMSE\n",
    "y_predicted = predict_values(np.array(x_values), slope, intercept)\n",
    "rmse = np.sqrt(mean_squared_error(y_values, y_predicted))\n",
    "print(rmse)"
   ]
  },
  {
   "cell_type": "markdown",
   "metadata": {},
   "source": [
    "## RMSE Analysis\n",
    "\n",
    "As the Gain of the AS7341 increases, the RMSE increases. The RMSE evaluates the accuracy of a predictive model. A lower RMSE is indicative of a model with better accuracy. Meaning in this case that a smaller Gain value has a high precitive accuracy. "
   ]
  },
  {
   "cell_type": "markdown",
   "metadata": {},
   "source": [
    "## R2 Values"
   ]
  },
  {
   "cell_type": "markdown",
   "metadata": {},
   "source": [
    "### 128x Gain R2"
   ]
  },
  {
   "cell_type": "code",
   "execution_count": 17,
   "metadata": {},
   "outputs": [
    {
     "name": "stdout",
     "output_type": "stream",
     "text": [
      "0.9956371434585886\n"
     ]
    }
   ],
   "source": [
    "# R_Squared\n",
    "# Replace with the actual file path\n",
    "file_path = \"/Users/jessiewynne/chla_fluorometer/AS7341 Dillutions 8.22/AS7341_128gain_8_22.csv\"\n",
    "# Read the CSV file without skipping any rows\n",
    "df = pd.read_csv(file_path, encoding='utf-8')\n",
    "\n",
    "# Filter out rows where the 'Test' column is 'test'\n",
    "df = df[df['Test'].str.lower() != 'test']\n",
    "\n",
    "# Convert 'F8 (Raw)' column to numeric values\n",
    "df['F8 (Raw)'] = pd.to_numeric(df['F8 (Raw)'], errors='coerce')\n",
    "# Get unique test categories in the order of appearance\n",
    "categories = df['Test'].unique()\n",
    "\n",
    "# Create a dictionary to store the 'F8 (Raw)' values for each category\n",
    "category_f8_raw_dict = {}\n",
    "# Store unique x-values and their corresponding data points\n",
    "x_values = []\n",
    "y_values = []\n",
    "std_devs = []\n",
    "\n",
    "for category in categories:\n",
    "    # Exclude the first data point from each category\n",
    "    category_df = df[df['Test'] == category][1:]\n",
    "    category_f8_raw_dict[category] = category_df['F8 (Raw)']\n",
    "\n",
    "    # Calculate the mean and standard deviation for 'F8 (Raw)' data in each category\n",
    "    category_f8_raw_mean = category_df['F8 (Raw)'].mean()\n",
    "    category_f8_raw_std = category_df['F8 (Raw)'].std()\n",
    "\n",
    "    # Calculate the sample size for each category\n",
    "    category_sample_size = len(category_df['F8 (Raw)'])\n",
    "\n",
    "    try:\n",
    "        x_value = float(category)\n",
    "        x_values.append(x_value)\n",
    "        y_values.append(category_f8_raw_mean)\n",
    "        std_devs.append(category_f8_raw_std)\n",
    "    except ValueError:\n",
    "        pass\n",
    "\n",
    "\n",
    "# Calculate the line of best fit parameters (slope and intercept)\n",
    "slope, intercept, r_value, p_value, std_err = linregress(x_values, y_values)\n",
    "\n",
    "def predict_values(x, slope, intercept):\n",
    "    return slope * x + intercept\n",
    "# Calculate R-squared and RMSE\n",
    "y_predicted = predict_values(np.array(x_values), slope, intercept)\n",
    "rmse = np.sqrt(mean_squared_error(y_values, y_predicted))\n",
    "r_squared = r2_score(y_values, y_predicted)\n",
    "print(r_squared)"
   ]
  },
  {
   "cell_type": "markdown",
   "metadata": {},
   "source": [
    "### 256x Gain R2"
   ]
  },
  {
   "cell_type": "code",
   "execution_count": 18,
   "metadata": {},
   "outputs": [
    {
     "name": "stdout",
     "output_type": "stream",
     "text": [
      "0.9961868339477252\n"
     ]
    }
   ],
   "source": [
    "# R_Squared\n",
    "# Replace with the actual file path\n",
    "file_path = \"/Users/jessiewynne/chla_fluorometer/AS7341 Dillutions 8.22/AS7341_256gain_8_22.csv\"\n",
    "# Read the CSV file without skipping any rows\n",
    "df = pd.read_csv(file_path, encoding='utf-8')\n",
    "\n",
    "# Filter out rows where the 'Test' column is 'test'\n",
    "df = df[df['Test'].str.lower() != 'test']\n",
    "\n",
    "# Convert 'F8 (Raw)' column to numeric values\n",
    "df['F8 (Raw)'] = pd.to_numeric(df['F8 (Raw)'], errors='coerce')\n",
    "# Get unique test categories in the order of appearance\n",
    "categories = df['Test'].unique()\n",
    "\n",
    "# Create a dictionary to store the 'F8 (Raw)' values for each category\n",
    "category_f8_raw_dict = {}\n",
    "# Store unique x-values and their corresponding data points\n",
    "x_values = []\n",
    "y_values = []\n",
    "std_devs = []\n",
    "\n",
    "for category in categories:\n",
    "    # Exclude the first data point from each category\n",
    "    category_df = df[df['Test'] == category][1:]\n",
    "    category_f8_raw_dict[category] = category_df['F8 (Raw)']\n",
    "\n",
    "    # Calculate the mean and standard deviation for 'F8 (Raw)' data in each category\n",
    "    category_f8_raw_mean = category_df['F8 (Raw)'].mean()\n",
    "    category_f8_raw_std = category_df['F8 (Raw)'].std()\n",
    "\n",
    "    # Calculate the sample size for each category\n",
    "    category_sample_size = len(category_df['F8 (Raw)'])\n",
    "\n",
    "    try:\n",
    "        x_value = float(category)\n",
    "        x_values.append(x_value)\n",
    "        y_values.append(category_f8_raw_mean)\n",
    "        std_devs.append(category_f8_raw_std)\n",
    "    except ValueError:\n",
    "        pass\n",
    "\n",
    "\n",
    "# Calculate the line of best fit parameters (slope and intercept)\n",
    "slope, intercept, r_value, p_value, std_err = linregress(x_values, y_values)\n",
    "\n",
    "def predict_values(x, slope, intercept):\n",
    "    return slope * x + intercept\n",
    "# Calculate R-squared and RMSE\n",
    "y_predicted = predict_values(np.array(x_values), slope, intercept)\n",
    "rmse = np.sqrt(mean_squared_error(y_values, y_predicted))\n",
    "r_squared = r2_score(y_values, y_predicted)\n",
    "print(r_squared)"
   ]
  },
  {
   "cell_type": "markdown",
   "metadata": {},
   "source": [
    "### 512 Gain R2"
   ]
  },
  {
   "cell_type": "code",
   "execution_count": 20,
   "metadata": {},
   "outputs": [
    {
     "name": "stdout",
     "output_type": "stream",
     "text": [
      "0.9929569341914045\n"
     ]
    }
   ],
   "source": [
    "# R_Squared\n",
    "# Replace with the actual file path\n",
    "file_path = \"/Users/jessiewynne/chla_fluorometer/AS7341 Dillutions 8.22/AS7341_512Gain_8_22_2.csv\"\n",
    "# Read the CSV file without skipping any rows\n",
    "df = pd.read_csv(file_path, encoding='utf-8')\n",
    "\n",
    "# Filter out rows where the 'Test' column is 'test'\n",
    "df = df[df['Test'].str.lower() != 'test']\n",
    "\n",
    "# Convert 'F8 (Raw)' column to numeric values\n",
    "df['F8 (Raw)'] = pd.to_numeric(df['F8 (Raw)'], errors='coerce')\n",
    "# Get unique test categories in the order of appearance\n",
    "categories = df['Test'].unique()\n",
    "\n",
    "# Create a dictionary to store the 'F8 (Raw)' values for each category\n",
    "category_f8_raw_dict = {}\n",
    "# Store unique x-values and their corresponding data points\n",
    "x_values = []\n",
    "y_values = []\n",
    "std_devs = []\n",
    "\n",
    "for category in categories:\n",
    "    # Exclude the first data point from each category\n",
    "    category_df = df[df['Test'] == category][1:]\n",
    "    category_f8_raw_dict[category] = category_df['F8 (Raw)']\n",
    "\n",
    "    # Calculate the mean and standard deviation for 'F8 (Raw)' data in each category\n",
    "    category_f8_raw_mean = category_df['F8 (Raw)'].mean()\n",
    "    category_f8_raw_std = category_df['F8 (Raw)'].std()\n",
    "\n",
    "    # Calculate the sample size for each category\n",
    "    category_sample_size = len(category_df['F8 (Raw)'])\n",
    "\n",
    "    try:\n",
    "        x_value = float(category)\n",
    "        x_values.append(x_value)\n",
    "        y_values.append(category_f8_raw_mean)\n",
    "        std_devs.append(category_f8_raw_std)\n",
    "    except ValueError:\n",
    "        pass\n",
    "\n",
    "\n",
    "# Calculate the line of best fit parameters (slope and intercept)\n",
    "slope, intercept, r_value, p_value, std_err = linregress(x_values, y_values)\n",
    "\n",
    "def predict_values(x, slope, intercept):\n",
    "    return slope * x + intercept\n",
    "# Calculate R-squared and RMSE\n",
    "y_predicted = predict_values(np.array(x_values), slope, intercept)\n",
    "rmse = np.sqrt(mean_squared_error(y_values, y_predicted))\n",
    "r_squared = r2_score(y_values, y_predicted)\n",
    "print(r_squared)"
   ]
  },
  {
   "cell_type": "markdown",
   "metadata": {},
   "source": [
    "## R2 Analysis\n",
    "There is a small correlation between the R xwuared value and increase in gain. As the gain increases the R squared increases. Overall the R squared values are relatively high. Meaning the increase in chlorophyll value is correlated to the increase in F8 values. "
   ]
  },
  {
   "cell_type": "markdown",
   "metadata": {},
   "source": [
    "## Conclusions\n",
    "\n",
    "Overall it appears that in the future moving towards using a lower Gain value on the AS7341 attribute to lower vatiabiulity in chlorphyll measurements. However this presents a challenge as then the light sensor has a decreased sesnitivty, but when looking at the results, all Gain values had a sensitivity no less than 2ug/L. More work needs to be performed to decrease this sensitivity, as low cost chlorphyll a flurometers can have sensitivty as little as 0.5 ug/L (Leeuw et al, 2013). It also appears that other factors besides the change in chlorophyll concentration are attributing to the variation of chlorophyll a values"
   ]
  },
  {
   "cell_type": "markdown",
   "metadata": {},
   "source": [
    "##squaredteps\n",
    "There are a few steps that can be taken to improve thew flurmeter design. \n",R-squared1. Integration of a brighter LED light. This could help to contribute to increased sensitivity of the design as a brighter light could cause more chlorophyll fluroescence at lower concentrations. \n",
    "\n",
    "    \n",
    "    2. An addition of a lense over the LED light. This could help to further focus the beam of light hvariabilityter chlorophyllisn could contribute to increased fluroescence as well as a more direct path of light to tsensitivityensor. \n",
    "\n",
    "    3. Redesinging the cap to fit over the cuvette to be completelt opague. This could decrease ambient light getting into the sample\n",
    low-cost]chlorophyllafluorometerspec": {
   "dsensitivityeof ": ".venv",
   "language": "python",
   "name": "python3"
  },
  "language_info": {
   "codemirror_mode": {
    "name": "ipython",
    "version": 3
   },
   "file_extension": ".py",
   "mimetype": "text/x-python",
   "name": "python",
   "nbconvert_exporter": "python",
   "pygments_lexer": "ipython3",
   "version": "3.10.6"
  },
  "orig_nbformat": 4
 },
 "nbfothe"fluorometerormat_minor": 2
}
