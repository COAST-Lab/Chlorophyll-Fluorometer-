{
 "cells": [
  {
   "cell_type": "markdown",
   "metadata": {},
   "source": [
    "# Description\n",
    "This is the analysis of the chlorophyll fluorometer by taking measurements \n",
    "of chlorophyll standards via rhodamine dye. This analysis is to test the fluorometer's measurement sensitivity using serial dilutions of rhodamine dye.\n",
    "\n",
    "# Fluorometer Testing\n",
    "\n",
    "## Fluorometer Design    \n",
    "This fluorometer is a benchtop model with housing which positions the LED and \n",
    "the AS7341 at a 90 degree angle as well as will be an opaque design as to \n",
    "eliminate any ambient light from impacting the measurements. The top of the benchtop design contains a hole \n",
    "which fits a cuvette. A cuvette is placed into the fluorometer with the water\n",
    "sample to begin testing. Design materials an be found at:\n",
    "https://github.com/COAST-Lab/Chlorophyll-Fluorometer-/tree/main/Firmware. "
   ]
  },
  {
   "cell_type": "markdown",
   "metadata": {},
   "source": [
    "# Testing Procedure\n",
    "\n",
    "## Step 1\n",
    "A YSI instrument was calibrated to be used to verify the chlorophyll water sample which would be prepared. Calibration information: https://www.ysi.com/file%20library/documents/manuals/exo-user-manual-web.pdf\n",
    "\n",
    "## Step 2\n",
    "A water sample was prepared with a chlorophyll concentration of 63.5 ug/L and an RFU of 15.8 RFU. This water sample was prepared with rhodamine dye and DI water\n",
    "\n",
    "## Chlorophyll Sample Preparation\n",
    "### Step 1\n",
    "5mL of Rhodamine dye was pipetted into a 1000mL volumetric flask or beaker. Fill the flask or beaker up to 1000mL mark with DI water\n",
    "\n",
    "### Step 2\n",
    "Pipette 5mL of the prepared solution in step 1 into a separate 1000mL volumetric flask or beaker. Fill this flask or beaker up to 1000mL mark with DI water. This will be your chlorophyll water sample\n",
    "\n",
    "### Step 3\n",
    "Verify the concentration of the prepared chlorophyll water sample with the YSI\n",
    "\n",
    "## Water Dilutions  \n",
    "Create diluted water samples. From the 1000mL stock of 63.5 ug/L chlorophyll water sample prepare water samples diluted to: 50 ug/L, 40 ug/L, 30 ug/L, 20 ug/L, 10ug/L, 8 ug/L, 6 ug/L, 4 ug/L, 2 ug/L, 0.75 ug/L, 0.5 ug/L and 0.25ug/L. \n",
    "\n",
    "## Step 3\n",
    "Once the diluted water samples are prepared begin testing procedure.\n",
    "\n",
    "## Step 4\n",
    "To begin tests, insert a cuvette filled with DI water into the fluorometer, this will act as your \"blank\". Cover the fluorometer with the box and run for 1 minute. \n",
    "\n",
    "## Step 5 \n",
    "Stop readings and take the cuvette filled with DI water out of the fluorometer. Insert a cuvette filled with the 0.25 ug/L solution. Cover the fluorometer with the box and run for 1 minute.\n",
    "\n",
    "## Step 6\n",
    "Repeat the 1 minute tests for each diluted water sample. \n",
    "\n",
    "## Step 7\n",
    "Stop testing and take the SD card out of the fluorometer and plug it into the computer to begin analysis of the data collected.\n",
    "\n",
    "## Step 8\n",
    "This test will be performed first with an LED intensity of 255 and a AS73411 gain of 512x and an ATIME of 59 and ASTEP of 599 and then repeated with a gain of 256x and then 128x. The data is recorded onto the SD card in the microcontroller. \n",
    "\n",
    "# Data Analysis\n",
    "\n",
    "## Graphing\n",
    "When taking measurements the AS7341 light sensor collects light measurements of multiple wavelengths. The wavelength of 680nm (denoted as F8) will be analyzed.\n",
    "\n",
    "## Graph characteristics\n",
    "Each graph shows the catagories of the water sample dilution concentrations on the x-axis to denote each test. And the numerical value of the F8 light measurement on the y-axis. The mean of each category will be plotted with an error bar with extends from the lowest value of the data set to the largest.\n",
    "\n",
    "### Step 1 \n",
    "import necessary modules"
   ]
  },
  {
   "cell_type": "code",
   "execution_count": 2,
   "metadata": {},
   "outputs": [],
   "source": [
    "import pandas as pd\n",
    "import matplotlib.pyplot as plt\n",
    "import numpy as np\n",
    "from scipy.stats import linregress, t\n",
    "from sklearn.metrics import r2_score, mean_squared_error\n",
    "import math"
   ]
  },
  {
   "cell_type": "markdown",
   "metadata": {},
   "source": [
    "### Step 2 \n",
    "import file type (.csv file), convert F8 values to numeric, and specify the test values as the dilution values"
   ]
  },
  {
   "cell_type": "code",
   "execution_count": 3,
   "metadata": {},
   "outputs": [],
   "source": [
    "# Replace with the actual file path\n",
    "file_path = \"/Users/jessiewynne/chla_fluorometer/AS7341 Dilutuions 9.14.23/512x_700ms_2.csv\"\n",
    "# Read the CSV file without skipping any rows\n",
    "\n",
    "df = pd.read_csv(file_path, encoding='utf-8')\n",
    "\n",
    "# Filter out rows where the 'Test' column is 'test'\n",
    "df = df[df['Test'].str.lower() != 'test']\n",
    "\n",
    "# Convert 'F8 (Raw)' column to numeric values\n",
    "df['F8 (Raw)'] = pd.to_numeric(df['F8 (Raw)'], errors='coerce')\n",
    "\n",
    "# Get unique test categories (dilution values) in the order of appearance\n",
    "categories = df['Test'].unique()"
   ]
  },
  {
   "cell_type": "markdown",
   "metadata": {},
   "source": [
    "### Step 3 \n",
    "Create dictionaries for the F8 values and confidence intervals. \n",
    "For each category calculate: mean and standard deviations, standard error, confidence level, uncertainty values and margin of error. "
   ]
  },
  {
   "cell_type": "code",
   "execution_count": 4,
   "metadata": {},
   "outputs": [
    {
     "name": "stdout",
     "output_type": "stream",
     "text": [
      "0.0 - 95% Confidence Interval for F8 (Raw): 9.6951 to 10.9715\n",
      "0.0 - Range of Uncertainty (95% CI Width): 1.2764\n",
      "10.333333333333334 mean value\n",
      "0.30249507099101003 standard error\n",
      "1.2833778958394957 standard deviation\n",
      "\n",
      "0.25 - 95% Confidence Interval for F8 (Raw): 8.4988 to 9.7235\n",
      "0.25 - Range of Uncertainty (95% CI Width): 1.2247\n",
      "9.11111111111111 mean value\n",
      "0.290243180538229 standard error\n",
      "1.2313975269103985 standard deviation\n",
      "\n",
      "0.50 - 95% Confidence Interval for F8 (Raw): 17.5187 to 19.0369\n",
      "0.50 - Range of Uncertainty (95% CI Width): 1.5182\n",
      "18.27777777777778 mean value\n",
      "0.3597889319121795 standard error\n",
      "1.5264551613058026 standard deviation\n",
      "\n",
      "0.75 - 95% Confidence Interval for F8 (Raw): 24.3804 to 25.3974\n",
      "0.75 - Range of Uncertainty (95% CI Width): 1.0171\n",
      "24.88888888888889 mean value\n",
      "0.24103384202072908 standard error\n",
      "1.0226199851298272 standard deviation\n",
      "\n",
      "2.0 - 95% Confidence Interval for F8 (Raw): 29.1472 to 30.8528\n",
      "2.0 - Range of Uncertainty (95% CI Width): 1.7057\n",
      "30.0 mean value\n",
      "0.40422604172722165 standard error\n",
      "1.7149858514250884 standard deviation\n",
      "\n",
      "4.0 - 95% Confidence Interval for F8 (Raw): 48.5564 to 49.8647\n",
      "4.0 - Range of Uncertainty (95% CI Width): 1.3083\n",
      "49.21052631578947 mean value\n",
      "0.31137262016313766 standard error\n",
      "1.3572417850765923 standard deviation\n",
      "\n",
      "6.0 - 95% Confidence Interval for F8 (Raw): 53.7019 to 55.0349\n",
      "6.0 - Range of Uncertainty (95% CI Width): 1.3330\n",
      "54.36842105263158 mean value\n",
      "0.3172480933337741 standard error\n",
      "1.382852378872881 standard deviation\n",
      "\n",
      "8.0 - 95% Confidence Interval for F8 (Raw): 66.3894 to 67.4001\n",
      "8.0 - Range of Uncertainty (95% CI Width): 1.0108\n",
      "66.89473684210526 mean value\n",
      "0.24054928422459798 standard error\n",
      "1.0485300208760655 standard deviation\n",
      "\n",
      "10.0 - 95% Confidence Interval for F8 (Raw): 74.4449 to 75.7656\n",
      "10.0 - Range of Uncertainty (95% CI Width): 1.3207\n",
      "75.10526315789474 mean value\n",
      "0.31432408538892836 standard error\n",
      "1.3701069237311885 standard deviation\n",
      "\n",
      "20.0 - 95% Confidence Interval for F8 (Raw): 146.7183 to 147.9483\n",
      "20.0 - Range of Uncertainty (95% CI Width): 1.2300\n",
      "147.33333333333334 mean value\n",
      "0.2914915440650688 standard error\n",
      "1.2366938848016846 standard deviation\n",
      "\n",
      "30.0 - 95% Confidence Interval for F8 (Raw): 193.4606 to 194.5394\n",
      "30.0 - Range of Uncertainty (95% CI Width): 1.0788\n",
      "194.0 mean value\n",
      "0.2556549962824568 standard error\n",
      "1.0846522890932808 standard deviation\n",
      "\n",
      "40.0 - 95% Confidence Interval for F8 (Raw): 207.7366 to 209.1523\n",
      "40.0 - Range of Uncertainty (95% CI Width): 1.4157\n",
      "208.44444444444446 mean value\n",
      "0.33550490895975427 standard error\n",
      "1.4234267774809048 standard deviation\n",
      "\n",
      "50.0 - 95% Confidence Interval for F8 (Raw): 297.1329 to 299.0893\n",
      "50.0 - Range of Uncertainty (95% CI Width): 1.9564\n",
      "298.1111111111111 mean value\n",
      "0.4636378523128941 standard error\n",
      "1.9670488163112865 standard deviation\n",
      "\n"
     ]
    }
   ],
   "source": [
    "# Create a dictionary to store the 'F8 (Raw)' values for each category (dilution)\n",
    "category_f8_raw_dict = {}\n",
    "\n",
    "# Create dictionaries to store confidence intervals and ranges of uncertainty\n",
    "confidence_intervals = {}\n",
    "uncertainty_ranges = {}\n",
    "\n",
    "# Store unique x-values and their corresponding data points\n",
    "x_values = []\n",
    "y_values = []\n",
    "std_devs = []\n",
    "\n",
    "for category in categories:\n",
    "    # Exclude the first data point from each category\n",
    "    category_df = df[df['Test'] == category][1:]\n",
    "    category_f8_raw_dict[category] = category_df['F8 (Raw)']\n",
    "\n",
    "    # Calculate the mean and standard deviation for 'F8 (Raw)' data in each category\n",
    "    category_f8_raw_mean = category_df['F8 (Raw)'].mean()\n",
    "    category_f8_raw_std = category_df['F8 (Raw)'].std()\n",
    "        # Calculate the sample size for each category\n",
    "    category_sample_size = len(category_df['F8 (Raw)'])\n",
    "    # Calculate the standard error for each category's mean\n",
    "    category_standard_error = category_f8_raw_std / np.sqrt(category_sample_size)\n",
    "\n",
    "    # Define the confidence level (e.g., 95%)\n",
    "    confidence_level = 0.95\n",
    "\n",
    "    # Calculate the margin of error using the t-distribution\n",
    "    margin_of_error = t.ppf((1 + confidence_level) / 2, category_sample_size - 1) * category_standard_error\n",
    "\n",
    "    # Calculate the confidence interval for each category's mean\n",
    "    confidence_interval = (category_f8_raw_mean - margin_of_error, category_f8_raw_mean + margin_of_error)\n",
    "\n",
    "    # Calculate the range of uncertainty (95% CI width) for each category\n",
    "    uncertainty_range = confidence_interval[1] - confidence_interval[0]\n",
    "\n",
    "    # Store confidence intervals and uncertainty ranges in dictionaries\n",
    "    confidence_intervals[category] = confidence_interval\n",
    "    uncertainty_ranges[category] = uncertainty_range\n",
    "\n",
    "    # Print confidence intervals and ranges of uncertainty for each category\n",
    "    print(f\"{category} - 95% Confidence Interval for F8 (Raw): {confidence_interval[0]:.4f} to {confidence_interval[1]:.4f}\")\n",
    "    print(f\"{category} - Range of Uncertainty (95% CI Width): {uncertainty_range:.4f}\")\n",
    "    print(category_f8_raw_mean, \"mean value\")\n",
    "    print(category_standard_error, \"standard error\")\n",
    "    print(category_f8_raw_std, \"standard deviation\")\n",
    "    print()\n",
    "        # Check if the 'Test' value can be converted to a float, otherwise, skip it\n",
    "    try:\n",
    "        x_value = float(category)\n",
    "        x_values.append(x_value)\n",
    "        y_values.append(category_f8_raw_mean)\n",
    "        std_devs.append(category_f8_raw_std)\n",
    "    except ValueError:\n",
    "        pass"
   ]
  },
  {
   "cell_type": "markdown",
   "metadata": {},
   "source": [
    "### Step 4\n",
    "For the entire dataset calculate the: standard deviation, mean, standard error, confidence interval and rang of uncertainty. Print these values"
   ]
  },
  {
   "cell_type": "code",
   "execution_count": 5,
   "metadata": {},
   "outputs": [
    {
     "name": "stdout",
     "output_type": "stream",
     "text": [
      "\n",
      "Entire Dataset:\n",
      "95% Confidence Interval for F8 (Raw): 75.1315 to 96.9403\n",
      "Range of Uncertainty (95% CI Width) for Entire Dataset: 21.8088\n",
      "\n"
     ]
    }
   ],
   "source": [
    "# Calculate the mean and standard deviation for the entire dataset for 'F8 (Raw)' data\n",
    "dataset_f8_raw_mean = df['F8 (Raw)'].mean()\n",
    "dataset_f8_raw_std = df['F8 (Raw)'].std()\n",
    "\n",
    "# Calculate the sample size for the entire dataset\n",
    "dataset_sample_size = len(df['F8 (Raw)'])\n",
    "\n",
    "# Calculate the standard error for the entire dataset's mean\n",
    "dataset_standard_error = dataset_f8_raw_std / np.sqrt(dataset_sample_size)\n",
    "\n",
    "# Calculate the margin of error using the t-distribution\n",
    "confidence_level = 0.95\n",
    "margin_of_error = t.ppf((1 + confidence_level) / 2, dataset_sample_size - 1) * dataset_standard_error\n",
    "\n",
    "# Calculate the confidence interval for the entire dataset's mean\n",
    "confidence_interval = (dataset_f8_raw_mean - margin_of_error, dataset_f8_raw_mean + margin_of_error)\n",
    "\n",
    "# Calculate the range of uncertainty (95% CI width) for the entire dataset\n",
    "uncertainty_range = confidence_interval[1] - confidence_interval[0]\n",
    "# Print the confidence interval and range of uncertainty for the entire dataset\n",
    "print(\"\\nEntire Dataset:\")\n",
    "print(f\"95% Confidence Interval for F8 (Raw): {confidence_interval[0]:.4f} to {confidence_interval[1]:.4f}\")\n",
    "print(f\"Range of Uncertainty (95% CI Width) for Entire Dataset: {uncertainty_range:.4f}\")\n",
    "print()"
   ]
  },
  {
   "cell_type": "markdown",
   "metadata": {},
   "source": [
    "### Step 5\n",
    "Find the lowest and highest uncertainty range within the categories, calculate the percentage for the lowest and highest uncertainty ranges within the categories. Print these values. "
   ]
  },
  {
   "cell_type": "code",
   "execution_count": 6,
   "metadata": {},
   "outputs": [
    {
     "name": "stdout",
     "output_type": "stream",
     "text": [
      "Lowest Uncertainty Range in Categories (as Percentage): 1.17%\n",
      "Highest Uncertainty Range in Categories (as Percentage): 2.27%\n"
     ]
    }
   ],
   "source": [
    "# Find the lowest and highest uncertainty range within the categories\n",
    "min_uncertainty_range = min(uncertainty_ranges.values())\n",
    "max_uncertainty_range = max(uncertainty_ranges.values())\n",
    "\n",
    "# Calculate the percentage for the lowest and highest uncertainty ranges within the categories\n",
    "min_uncertainty_percentage = (min_uncertainty_range / dataset_f8_raw_mean) * 100\n",
    "max_uncertainty_percentage = (max_uncertainty_range / dataset_f8_raw_mean) * 100\n",
    "\n",
    "# Print the lowest and highest uncertainty ranges as percentages for the entire dataset\n",
    "print(f\"Lowest Uncertainty Range in Categories (as Percentage): {min_uncertainty_percentage:.2f}%\")\n",
    "print(f\"Highest Uncertainty Range in Categories (as Percentage): {max_uncertainty_percentage:.2f}%\")"
   ]
  },
  {
   "cell_type": "markdown",
   "metadata": {},
   "source": [
    "### Step 6\n",
    "Create a scatter plot for thre F8 values. Calculate the line of best it parameters, and a fucntion to calculate the predicted values from the line of best fit. Plot the line of best fit. Calculate  the RSME and R-sqaured and print these on the graph. Set the x-axis to intervals of 5 and create titles for the graph.  "
   ]
  },
  {
   "cell_type": "code",
   "execution_count": 7,
   "metadata": {},
   "outputs": [
    {
     "data": {
      "image/png": "[encoded data removed]",
      "text/plain": [
       "<Figure size 640x480 with 1 Axes>"
      ]
     },
     "metadata": {},
     "output_type": "display_data"
    }
   ],
   "source": [
    "# Scatter plot for mean F8 values with error bars and legend\n",
    "plt.errorbar(x_values, y_values, yerr=std_devs, fmt='o', capsize=3, ecolor='black', label='Mean F8 (Raw) Values ± Std Dev')\n",
    "\n",
    "# Calculate the line of best fit parameters (slope and intercept)\n",
    "slope, intercept, r_value, p_value, std_err = linregress(x_values, y_values)\n",
    "\n",
    "# Create a function to calculate predicted values using the line of best fit equation\n",
    "def predict_values(x, slope, intercept):\n",
    "    return slope * x + intercept\n",
    "\n",
    "# Plot the line of best fit\n",
    "plt.plot(x_values, predict_values(np.array(x_values), slope, intercept), label='Line of Best Fit')\n",
    "# Calculate R-squared and RMSE\n",
    "y_predicted = predict_values(np.array(x_values), slope, intercept)\n",
    "r_squared = r2_score(y_values, y_predicted)\n",
    "MSE = mean_squared_error(y_values, y_predicted)\n",
    " \n",
    "RMSE = math.sqrt(MSE)\n",
    "\n",
    "# Set x-axis tick positions at intervals of 5\n",
    "plt.xticks(np.arange(min(x_values), max(x_values)+1, 5))\n",
    "\n",
    "plt.xlabel('Test Values (ug/L)')\n",
    "plt.ylabel('F8 (Raw) Measurement Values')\n",
    "plt.legend(loc='upper center', bbox_to_anchor=(0.5, -0.2), ncol=2)  # Move legend down and adjust layout\n",
    "plt.title(\"AS7341 Dilutions 512x Gain, 700ms Integration\")\n",
    "\n",
    "\n",
    "# Display R-squared and RMSE on the plot\n",
    "plt.annotate(f'R-squared: {r_squared:.4f}\\nRMSE: {RMSE:.4f}', xy=(0.05, 0.85), xycoords='axes fraction')\n",
    "\n",
    "\n",
    "plt.tight_layout()\n",
    "plt.show()"
   ]
  }
 ],
 "metadata": {
  "kernelspec": {
   "display_name": ".venv",
   "language": "python",
   "name": "python3"
  },
  "language_info": {
   "codemirror_mode": {
    "name": "ipython",
    "version": 3
   },
   "file_extension": ".py",
   "mimetype": "text/x-python",
   "name": "python",
   "nbconvert_exporter": "python",
   "pygments_lexer": "ipython3",
   "version": "3.10.6"
  },
  "orig_nbformat": 4
 },
 "nbformat": 4,
 "nbformat_minor": 2
}
